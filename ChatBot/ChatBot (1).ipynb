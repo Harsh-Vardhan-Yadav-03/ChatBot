{
 "cells": [
  {
   "cell_type": "code",
   "execution_count": 1,
   "id": "cffcb824-9a02-43a6-a05b-5a9c0eb66a21",
   "metadata": {},
   "outputs": [
    {
     "name": "stdout",
     "output_type": "stream",
     "text": [
      "ChatBot: \"Despacito\" (Latin American Spanish: [despaˈsito]; transl. \"Slowly\") is a song by Puerto Rican singer Luis Fonsi, originally written in 2015. In 2016, Luis sent the song to Puerto Rican rapper and singer Daddy Yankee to give it an \"urban injection\", and released it as the lead single from Fonsi's 2017 studio album Vida.\n"
     ]
    },
    {
     "name": "stdout",
     "output_type": "stream",
     "text": [
      "You:  weather in bhubeneswar\n"
     ]
    },
    {
     "name": "stdout",
     "output_type": "stream",
     "text": [
      "ChatBot: Weather info for  Bhubeneswar: Bhubaneswar secured the top rank in the smart city list in india.\n",
      "\n",
      "\n",
      "=== climate ===\n",
      "\n",
      "bhubaneswar has a tropical savanna climate, designated aw under the köppen climate classification Temperatures in bhubaneswar usually range from 11 to 44 °c (52 to 111 °f) It experiences five primary seasons: winter (december to january), when temperatures can drop to 11 °c (52 °f); spring (february); summer (march to may), when temperatures can reach 44 °c (111 °f) or higher; monsoon (june to october); and post-monsoon (november).\n"
     ]
    },
    {
     "name": "stdout",
     "output_type": "stream",
     "text": [
      "You:  weather in puri\n"
     ]
    },
    {
     "name": "stderr",
     "output_type": "stream",
     "text": [
      "C:\\Users\\KIIT\\anaconda3\\Lib\\site-packages\\wikipedia\\wikipedia.py:389: GuessedAtParserWarning: No parser was explicitly specified, so I'm using the best available HTML parser for this system (\"lxml\"). This usually isn't a problem, but if you run this code on another system, or in a different virtual environment, it may use a different parser and behave differently.\n",
      "\n",
      "The code that caused this warning is on line 389 of the file C:\\Users\\KIIT\\anaconda3\\Lib\\site-packages\\wikipedia\\wikipedia.py. To get rid of this warning, pass the additional argument 'features=\"lxml\"' to the BeautifulSoup constructor.\n",
      "\n",
      "  lis = BeautifulSoup(html).find_all('li')\n"
     ]
    },
    {
     "name": "stdout",
     "output_type": "stream",
     "text": [
      "ChatBot: Multiple results found for  Puri. Try specifying: Pure function, PureSystems, Pure Software.\n"
     ]
    },
    {
     "name": "stdout",
     "output_type": "stream",
     "text": [
      "You:  weather in bhubeneswar\n"
     ]
    },
    {
     "name": "stdout",
     "output_type": "stream",
     "text": [
      "ChatBot: Weather info for  Bhubeneswar: Bhubaneswar secured the top rank in the smart city list in india.\n",
      "\n",
      "\n",
      "=== climate ===\n",
      "\n",
      "bhubaneswar has a tropical savanna climate, designated aw under the köppen climate classification Temperatures in bhubaneswar usually range from 11 to 44 °c (52 to 111 °f) It experiences five primary seasons: winter (december to january), when temperatures can drop to 11 °c (52 °f); spring (february); summer (march to may), when temperatures can reach 44 °c (111 °f) or higher; monsoon (june to october); and post-monsoon (november).\n"
     ]
    },
    {
     "name": "stdout",
     "output_type": "stream",
     "text": [
      "You:  what is despacito\n"
     ]
    },
    {
     "name": "stdout",
     "output_type": "stream",
     "text": [
      "ChatBot: \"Despacito\" (Latin American Spanish: [despaˈsito]; transl. \"Slowly\") is a song by Puerto Rican singer Luis Fonsi, originally written in 2015. In 2016, Luis sent the song to Puerto Rican rapper and singer Daddy Yankee to give it an \"urban injection\", and released it as the lead single from Fonsi's 2017 studio album Vida.\n"
     ]
    }
   ],
   "source": [
    "import requests\n",
    "import wikipedia\n",
    "import json\n",
    "import os\n",
    "import random"
   ]
  },
  {
   "cell_type": "code",
   "execution_count": 2,
   "id": "dde4339c-d0f4-417a-a504-2705bb307806",
   "metadata": {},
   "outputs": [],
   "source": [
    "def load_knowledge_base(file_name=\"data,json\"):\n",
    "    if os.path.exists(file_name):\n",
    "        with open(file_name, \"r\") as file:\n",
    "            return json.load(file)\n",
    "    return {\"intents\": []}\n",
    "\n",
    "def save_knowledge_base(knowledge, file_name=\"data,json\"):\n",
    "    with open(file_name, \"w\") as file:\n",
    "        json.dump(knowledge, file, indent=4)\n",
    "\n",
    "def find_tag(knowledge_base, query):\n",
    "    for entry in knowledge_base[\"intents\"]:\n",
    "        if any(pattern.lower() == query.lower() for pattern in entry[\"patterns\"]):\n",
    "            return entry\n",
    "    return None"
   ]
  },
  {
   "cell_type": "code",
   "execution_count": 3,
   "id": "d3ebaeef-2b12-4e6f-ac1c-9c297e617790",
   "metadata": {},
   "outputs": [],
   "source": [
    "\n",
    "# ChatBot class\n",
    "class ChatBot:\n",
    "    def __init__(self, knowledge_file=\"data.json\"):\n",
    "        self.knowledge_base = load_knowledge_base(knowledge_file)\n",
    "        self.knowledge_file = knowledge_file\n",
    "\n",
    "    def get_response(self, query):\n",
    "        try:\n",
    "            query = query.lower()\n",
    "            \n",
    "            if query.startswith(\"weather in \"):\n",
    "                city = query[10:]\n",
    "                return get_weather_from_wikipedia(city)\n",
    "            \n",
    "            tag_entry = find_tag(self.knowledge_base, query)\n",
    "            if tag_entry:\n",
    "                return random.choice(tag_entry[\"responses\"])\n",
    "            \n",
    "            return get_wikipedia_summary(query)\n",
    "        except Exception:\n",
    "            return \"An error occurred. Input not available.\"\n",
    "\n",
    "    def learn_response(self, tag, patterns, response):\n",
    "        try:\n",
    "            existing_tag = find_tag(self.knowledge_base, patterns[0])\n",
    "            \n",
    "            if existing_tag:\n",
    "                existing_tag[\"patterns\"].extend(patterns)\n",
    "                existing_tag[\"responses\"].append(response)\n",
    "            else:\n",
    "                self.knowledge_base[\"intents\"].append({\n",
    "                    \"tag\": tag,\n",
    "                    \"patterns\": patterns,\n",
    "                    \"responses\": [response],\n",
    "                    \"context\": [\"\"]\n",
    "                })\n",
    "            \n",
    "            save_knowledge_base(self.knowledge_base, self.knowledge_file)\n",
    "        except Exception:\n",
    "            print(\"An error occurred while learning the response.\")"
   ]
  },
  {
   "cell_type": "code",
   "execution_count": 4,
   "id": "7333b06f-9b42-4ee1-b603-a59b264b8931",
   "metadata": {},
   "outputs": [],
   "source": [
    "# Fetch Wikipedia summary\n",
    "def get_wikipedia_summary(topic):\n",
    "    try:\n",
    "        return wikipedia.summary(topic, sentences=2)\n",
    "    except wikipedia.exceptions.DisambiguationError as e:\n",
    "        return f\"Multiple results found. Try being more specific: {e.options[:3]}\"\n",
    "    except wikipedia.exceptions.PageError:\n",
    "        return \"No information available.\"\n"
   ]
  },
  {
   "cell_type": "code",
   "execution_count": 5,
   "id": "5cf28e4d-1e6e-414d-bd2f-c9c995310cc3",
   "metadata": {},
   "outputs": [],
   "source": [
    "# Train chatbot with predefined dataset\n",
    "def train_chatbot(file_name=\"data,json\"):\n",
    "    training_data = {\"intents\": [\n",
    "        {\"tag\": \"greeting\",\n",
    "         \"patterns\": [\"Hi there\", \"How are you\", \"Is anyone there?\", \"Hey\", \"Hola\", \"Hello\", \"Good day\"],\n",
    "         \"responses\": [\"Hello\", \"Good to see you again\", \"Hi there, how can I help?\"],\n",
    "         \"context\": [\"\"]\n",
    "        },\n",
    "        {\"tag\": \"goodbye\",\n",
    "         \"patterns\": [\"Bye\", \"See you later\", \"Goodbye\", \"Nice chatting to you, bye\", \"Till next time\"],\n",
    "         \"responses\": [\"See you!\", \"Have a nice day\", \"Bye! Come back again soon.\"],\n",
    "         \"context\": [\"\"]\n",
    "        },\n",
    "        {\"tag\": \"thanks\",\n",
    "         \"patterns\": [\"Thanks\", \"Thank you\", \"That's helpful\", \"Awesome, thanks\", \"Thanks for helping me\"],\n",
    "         \"responses\": [\"My pleasure\", \"You're Welcome\"],\n",
    "         \"context\": [\"\"]\n",
    "        }\n",
    "    ]}\n",
    "    save_knowledge_base(training_data, file_name)\n",
    "    print(\"Chatbot has been trained with a basic dataset.\")"
   ]
  },
  {
   "cell_type": "code",
   "execution_count": 6,
   "id": "49d387cf-9ba1-4f3f-b8d1-a9b4bdfef549",
   "metadata": {},
   "outputs": [],
   "source": [
    "def main():\n",
    "    bot = ChatBot()\n",
    "    print(\"ChatBot: Hello! I'm your chatbot. Ask me anything or type 'bye' to exit.\")\n",
    "\n",
    "    while True:\n",
    "        try:\n",
    "            user_input = input(\"You: \").strip()\n",
    "\n",
    "            if user_input.lower() == \"bye\":\n",
    "                print(\"ChatBot: Goodbye! Have a great day!\")\n",
    "                break\n",
    "\n",
    "            response = bot.get_response(user_input)\n",
    "            print(f\"ChatBot: {response}\")\n",
    "\n",
    "            if response == \"Input not available.\" or \"No information available.\" in response:\n",
    "                print(\"ChatBot: I don't know the answer to that. Can you teach me?\")\n",
    "                user_response = input(\"You (type the answer or 'skip' to ignore): \").strip()\n",
    "\n",
    "                if user_response.lower() != \"skip\":\n",
    "                    tag = input(\"Enter a category/tag for this response: \").strip()\n",
    "                    bot.learn_response(tag, [user_input], user_response)\n",
    "                    print(\"ChatBot: Thank you! I've learned something new.\")\n",
    "        except Exception:\n",
    "            print(\"ChatBot: An error occurred. Please try again.\")"
   ]
  },
  {
   "cell_type": "code",
   "execution_count": null,
   "id": "1f7bb16b-212a-430d-bd13-4c63d715bfed",
   "metadata": {},
   "outputs": [
    {
     "name": "stdout",
     "output_type": "stream",
     "text": [
      "Chatbot has been trained with a basic dataset.\n",
      "ChatBot: Hello! I'm your chatbot. Ask me anything or type 'bye' to exit.\n"
     ]
    },
    {
     "name": "stdin",
     "output_type": "stream",
     "text": [
      "You:  hola\n"
     ]
    },
    {
     "name": "stdout",
     "output_type": "stream",
     "text": [
      "ChatBot: Hello\n"
     ]
    },
    {
     "name": "stdin",
     "output_type": "stream",
     "text": [
      "You:  H.C. Verma\n"
     ]
    },
    {
     "name": "stdout",
     "output_type": "stream",
     "text": [
      "ChatBot: Harish Chandra Verma (born 3 April 1952), popularly known as HCV, is an Indian experimental physicist, author and emeritus professor of the Indian Institute of Technology Kanpur. In 2021, he was awarded the Padma Shri, the fourth highest civilian award, by the Government of India for his contribution to Physics Education.\n"
     ]
    },
    {
     "name": "stdin",
     "output_type": "stream",
     "text": [
      "You:  weather in kolkata\n"
     ]
    },
    {
     "name": "stdout",
     "output_type": "stream",
     "text": [
      "ChatBot: An error occurred. Input not available.\n"
     ]
    },
    {
     "name": "stdin",
     "output_type": "stream",
     "text": [
      "You:  weather in howrah\n"
     ]
    },
    {
     "name": "stdout",
     "output_type": "stream",
     "text": [
      "ChatBot: An error occurred. Input not available.\n"
     ]
    },
    {
     "name": "stdin",
     "output_type": "stream",
     "text": [
      "You:  weather in New York\n"
     ]
    },
    {
     "name": "stdout",
     "output_type": "stream",
     "text": [
      "ChatBot: An error occurred. Input not available.\n"
     ]
    },
    {
     "name": "stdin",
     "output_type": "stream",
     "text": [
      "You:  weather in cuttack\n"
     ]
    },
    {
     "name": "stdout",
     "output_type": "stream",
     "text": [
      "ChatBot: An error occurred. Input not available.\n"
     ]
    }
   ],
   "source": [
    "if __name__ == \"__main__\":\n",
    "    train_chatbot()\n",
    "    main()"
   ]
  },
  {
   "cell_type": "code",
   "execution_count": null,
   "id": "1f0e7459-53ea-4e98-a92e-39fdb15ffa66",
   "metadata": {},
   "outputs": [],
   "source": []
  }
 ],
 "metadata": {
  "kernelspec": {
   "display_name": "Python 3 (ipykernel)",
   "language": "python",
   "name": "python3"
  },
  "language_info": {
   "codemirror_mode": {
    "name": "ipython",
    "version": 3
   },
   "file_extension": ".py",
   "mimetype": "text/x-python",
   "name": "python",
   "nbconvert_exporter": "python",
   "pygments_lexer": "ipython3",
   "version": "3.12.0"
  }
 },
 "nbformat": 4,
 "nbformat_minor": 5
}
